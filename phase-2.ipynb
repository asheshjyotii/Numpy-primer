{
 "cells": [
  {
   "cell_type": "markdown",
   "id": "9fffc27c",
   "metadata": {},
   "source": [
    "# Advance\n"
   ]
  },
  {
   "cell_type": "code",
   "execution_count": 13,
   "id": "ddefb175",
   "metadata": {},
   "outputs": [],
   "source": [
    "import numpy as np"
   ]
  },
  {
   "cell_type": "markdown",
   "id": "58ccfb4c",
   "metadata": {},
   "source": [
    "## Numpy operations"
   ]
  },
  {
   "cell_type": "markdown",
   "id": "11a6cb08",
   "metadata": {},
   "source": [
    "### Slicing"
   ]
  },
  {
   "cell_type": "markdown",
   "id": "2a46e17e",
   "metadata": {},
   "source": [
    "#### Simple Slicing"
   ]
  },
  {
   "cell_type": "code",
   "execution_count": 14,
   "id": "3fa46c4a",
   "metadata": {},
   "outputs": [
    {
     "name": "stdout",
     "output_type": "stream",
     "text": [
      "Original array:  [ 1  2  3  4  5  6  7  8  9 10 11 12 13 14 15 16 17 18]\n",
      "Sliced array:  [ 3  4  5  6  7  8  9 10 11 12 13 14 15 16 17 18]\n"
     ]
    }
   ],
   "source": [
    "array = np.arange(1,19)\n",
    "print(\"Original array: \",array)\n",
    "print(\"Sliced array: \",array[2:18])"
   ]
  },
  {
   "cell_type": "markdown",
   "id": "03696ec7",
   "metadata": {},
   "source": [
    "#### Slicing with steps"
   ]
  },
  {
   "cell_type": "code",
   "execution_count": 15,
   "id": "1b7045aa",
   "metadata": {},
   "outputs": [
    {
     "name": "stdout",
     "output_type": "stream",
     "text": [
      "Steps sliced array:  [ 3  5  7  9 11 13 15 17]\n"
     ]
    }
   ],
   "source": [
    "print(\"Steps sliced array: \", array[2:18:2])"
   ]
  },
  {
   "cell_type": "markdown",
   "id": "f8534976",
   "metadata": {},
   "source": [
    "## 2D array operations"
   ]
  },
  {
   "cell_type": "code",
   "execution_count": 16,
   "id": "53e7af4b",
   "metadata": {},
   "outputs": [
    {
     "name": "stdout",
     "output_type": "stream",
     "text": [
      "[[1 2 3]\n",
      " [4 5 6]\n",
      " [7 8 9]]\n"
     ]
    }
   ],
   "source": [
    "matrix = np.array([[1,2,3],[4,5,6],[7,8,9]])\n",
    "print(matrix)"
   ]
  },
  {
   "cell_type": "markdown",
   "id": "e88b352d",
   "metadata": {},
   "source": [
    "### Specific element"
   ]
  },
  {
   "cell_type": "code",
   "execution_count": 17,
   "id": "cea9bdaa",
   "metadata": {},
   "outputs": [
    {
     "name": "stdout",
     "output_type": "stream",
     "text": [
      "Specific element:  6\n"
     ]
    }
   ],
   "source": [
    "print(\"Specific element: \", matrix[1,2])"
   ]
  },
  {
   "cell_type": "markdown",
   "id": "debc7f45",
   "metadata": {},
   "source": [
    "### Specific row "
   ]
  },
  {
   "cell_type": "code",
   "execution_count": 18,
   "id": "b51e9950",
   "metadata": {},
   "outputs": [
    {
     "name": "stdout",
     "output_type": "stream",
     "text": [
      "specific row:  [4 5 6]\n"
     ]
    }
   ],
   "source": [
    "print(\"specific row: \", matrix[1])"
   ]
  },
  {
   "cell_type": "markdown",
   "id": "07d02270",
   "metadata": {},
   "source": [
    "### Specific column"
   ]
  },
  {
   "cell_type": "code",
   "execution_count": 19,
   "id": "f2a25515",
   "metadata": {},
   "outputs": [
    {
     "name": "stdout",
     "output_type": "stream",
     "text": [
      "specific column:  [3 6 9]\n"
     ]
    }
   ],
   "source": [
    "print(\"specific column: \", matrix[:,2])"
   ]
  },
  {
   "cell_type": "markdown",
   "id": "1b466176",
   "metadata": {},
   "source": [
    "## Array sorting"
   ]
  },
  {
   "cell_type": "code",
   "execution_count": 25,
   "id": "841ff745",
   "metadata": {},
   "outputs": [
    {
     "name": "stdout",
     "output_type": "stream",
     "text": [
      "[1 4 1 2 5]\n",
      "[[8 2 3]\n",
      " [5 5 1]\n",
      " [2 1 6]]\n",
      "[[[8 2 3]\n",
      "  [5 5 1]\n",
      "  [2 1 6]]\n",
      "\n",
      " [[8 2 3]\n",
      "  [5 5 1]\n",
      "  [2 1 6]]]\n"
     ]
    }
   ],
   "source": [
    "one_d_array = np.array([1,4,1,2,5])\n",
    "two_d_array = np.array([[8,2,3],[5,5,1],[2,1,6]])\n",
    "three_d_array = np.array([[[8,2,3],[5,5,1],[2,1,6]],[[8,2,3],[5,5,1],[2,1,6]]])\n",
    "print(one_d_array)\n",
    "print(two_d_array)\n",
    "print(three_d_array)"
   ]
  },
  {
   "cell_type": "markdown",
   "id": "36deffcf",
   "metadata": {},
   "source": [
    "### 1D array sorting"
   ]
  },
  {
   "cell_type": "code",
   "execution_count": 22,
   "id": "525981d7",
   "metadata": {},
   "outputs": [
    {
     "name": "stdout",
     "output_type": "stream",
     "text": [
      "[1 1 2 4 5]\n"
     ]
    }
   ],
   "source": [
    "sorted_1d_array = np.sort(one_d_array)\n",
    "print(sorted_1d_array)"
   ]
  },
  {
   "cell_type": "markdown",
   "id": "a7844913",
   "metadata": {},
   "source": [
    "### 2D array sorting"
   ]
  },
  {
   "cell_type": "code",
   "execution_count": 23,
   "id": "877fc335",
   "metadata": {},
   "outputs": [
    {
     "name": "stdout",
     "output_type": "stream",
     "text": [
      "[[2 1 1]\n",
      " [5 2 3]\n",
      " [8 5 6]]\n"
     ]
    }
   ],
   "source": [
    "sorted_2d_array = np.sort(two_d_array, axis=0)\n",
    "print(sorted_2d_array)\n"
   ]
  },
  {
   "cell_type": "code",
   "execution_count": 28,
   "id": "da599f41",
   "metadata": {},
   "outputs": [
    {
     "name": "stdout",
     "output_type": "stream",
     "text": [
      "[[[8 2 3]\n",
      "  [5 5 1]\n",
      "  [2 1 6]]\n",
      "\n",
      " [[8 2 3]\n",
      "  [5 5 1]\n",
      "  [2 1 6]]]\n"
     ]
    }
   ],
   "source": [
    "sorted_3d_array = np.sort(three_d_array, axis=0)\n",
    "print(sorted_3d_array)"
   ]
  },
  {
   "cell_type": "code",
   "execution_count": null,
   "id": "df41f4cc",
   "metadata": {},
   "outputs": [],
   "source": []
  }
 ],
 "metadata": {
  "kernelspec": {
   "display_name": ".venv",
   "language": "python",
   "name": "python3"
  },
  "language_info": {
   "codemirror_mode": {
    "name": "ipython",
    "version": 3
   },
   "file_extension": ".py",
   "mimetype": "text/x-python",
   "name": "python",
   "nbconvert_exporter": "python",
   "pygments_lexer": "ipython3",
   "version": "3.12.3"
  }
 },
 "nbformat": 4,
 "nbformat_minor": 5
}
