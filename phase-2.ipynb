{
 "cells": [
  {
   "cell_type": "markdown",
   "id": "9fffc27c",
   "metadata": {},
   "source": [
    "# Advance\n"
   ]
  },
  {
   "cell_type": "code",
   "execution_count": 20,
   "id": "ddefb175",
   "metadata": {},
   "outputs": [],
   "source": [
    "import numpy as np"
   ]
  },
  {
   "cell_type": "markdown",
   "id": "58ccfb4c",
   "metadata": {},
   "source": [
    "## Numpy operations"
   ]
  },
  {
   "cell_type": "markdown",
   "id": "11a6cb08",
   "metadata": {},
   "source": [
    "### Slicing"
   ]
  },
  {
   "cell_type": "markdown",
   "id": "2a46e17e",
   "metadata": {},
   "source": [
    "#### Simple Slicing"
   ]
  },
  {
   "cell_type": "code",
   "execution_count": 21,
   "id": "3fa46c4a",
   "metadata": {},
   "outputs": [
    {
     "name": "stdout",
     "output_type": "stream",
     "text": [
      "Original array:  [ 1  2  3  4  5  6  7  8  9 10 11 12 13 14 15 16 17 18]\n",
      "Sliced array:  [ 3  4  5  6  7  8  9 10 11 12 13 14 15 16 17 18]\n"
     ]
    }
   ],
   "source": [
    "array = np.arange(1,19)\n",
    "print(\"Original array: \",array)\n",
    "print(\"Sliced array: \",array[2:18])"
   ]
  },
  {
   "cell_type": "markdown",
   "id": "03696ec7",
   "metadata": {},
   "source": [
    "#### Slicing with steps"
   ]
  },
  {
   "cell_type": "code",
   "execution_count": 22,
   "id": "1b7045aa",
   "metadata": {},
   "outputs": [
    {
     "name": "stdout",
     "output_type": "stream",
     "text": [
      "Steps sliced array:  [ 3  5  7  9 11 13 15 17]\n"
     ]
    }
   ],
   "source": [
    "print(\"Steps sliced array: \", array[2:18:2])"
   ]
  },
  {
   "cell_type": "markdown",
   "id": "f8534976",
   "metadata": {},
   "source": [
    "## 2D array operations"
   ]
  },
  {
   "cell_type": "code",
   "execution_count": 23,
   "id": "53e7af4b",
   "metadata": {},
   "outputs": [
    {
     "name": "stdout",
     "output_type": "stream",
     "text": [
      "[[1 2 3]\n",
      " [4 5 6]\n",
      " [7 8 9]]\n"
     ]
    }
   ],
   "source": [
    "matrix = np.array([[1,2,3],[4,5,6],[7,8,9]])\n",
    "print(matrix)"
   ]
  },
  {
   "cell_type": "markdown",
   "id": "e88b352d",
   "metadata": {},
   "source": [
    "### Specific element"
   ]
  },
  {
   "cell_type": "code",
   "execution_count": 24,
   "id": "cea9bdaa",
   "metadata": {},
   "outputs": [
    {
     "name": "stdout",
     "output_type": "stream",
     "text": [
      "Specific element:  6\n"
     ]
    }
   ],
   "source": [
    "print(\"Specific element: \", matrix[1,2])"
   ]
  },
  {
   "cell_type": "markdown",
   "id": "debc7f45",
   "metadata": {},
   "source": [
    "### Specific row "
   ]
  },
  {
   "cell_type": "code",
   "execution_count": 25,
   "id": "b51e9950",
   "metadata": {},
   "outputs": [
    {
     "name": "stdout",
     "output_type": "stream",
     "text": [
      "specific row:  [4 5 6]\n"
     ]
    }
   ],
   "source": [
    "print(\"specific row: \", matrix[1])"
   ]
  },
  {
   "cell_type": "markdown",
   "id": "07d02270",
   "metadata": {},
   "source": [
    "### Specific column"
   ]
  },
  {
   "cell_type": "code",
   "execution_count": 26,
   "id": "f2a25515",
   "metadata": {},
   "outputs": [
    {
     "name": "stdout",
     "output_type": "stream",
     "text": [
      "specific column:  [3 6 9]\n"
     ]
    }
   ],
   "source": [
    "print(\"specific column: \", matrix[:,2])"
   ]
  },
  {
   "cell_type": "markdown",
   "id": "1b466176",
   "metadata": {},
   "source": [
    "## Array sorting"
   ]
  },
  {
   "cell_type": "code",
   "execution_count": 27,
   "id": "841ff745",
   "metadata": {},
   "outputs": [
    {
     "name": "stdout",
     "output_type": "stream",
     "text": [
      "[1 4 1 2 5]\n",
      "[[8 2 3]\n",
      " [5 5 1]\n",
      " [2 1 6]]\n",
      "[[[8 2 3]\n",
      "  [5 5 1]\n",
      "  [2 1 6]]\n",
      "\n",
      " [[8 2 3]\n",
      "  [5 5 1]\n",
      "  [2 1 6]]]\n"
     ]
    }
   ],
   "source": [
    "one_d_array = np.array([1,4,1,2,5])\n",
    "two_d_array = np.array([[8,2,3],[5,5,1],[2,1,6]])\n",
    "three_d_array = np.array([[[8,2,3],[5,5,1],[2,1,6]],[[8,2,3],[5,5,1],[2,1,6]]])\n",
    "print(one_d_array)\n",
    "print(two_d_array)\n",
    "print(three_d_array)"
   ]
  },
  {
   "cell_type": "markdown",
   "id": "36deffcf",
   "metadata": {},
   "source": [
    "### 1D array sorting"
   ]
  },
  {
   "cell_type": "code",
   "execution_count": 28,
   "id": "525981d7",
   "metadata": {},
   "outputs": [
    {
     "name": "stdout",
     "output_type": "stream",
     "text": [
      "[1 1 2 4 5]\n"
     ]
    }
   ],
   "source": [
    "sorted_1d_array = np.sort(one_d_array)\n",
    "print(sorted_1d_array)"
   ]
  },
  {
   "cell_type": "markdown",
   "id": "a7844913",
   "metadata": {},
   "source": [
    "### 2D array sorting"
   ]
  },
  {
   "cell_type": "code",
   "execution_count": 29,
   "id": "877fc335",
   "metadata": {},
   "outputs": [
    {
     "name": "stdout",
     "output_type": "stream",
     "text": [
      "[[2 1 1]\n",
      " [5 2 3]\n",
      " [8 5 6]]\n"
     ]
    }
   ],
   "source": [
    "sorted_2d_array = np.sort(two_d_array, axis=0)\n",
    "print(sorted_2d_array)\n"
   ]
  },
  {
   "cell_type": "code",
   "execution_count": 30,
   "id": "da599f41",
   "metadata": {},
   "outputs": [
    {
     "name": "stdout",
     "output_type": "stream",
     "text": [
      "[[[8 2 3]\n",
      "  [5 5 1]\n",
      "  [2 1 6]]\n",
      "\n",
      " [[8 2 3]\n",
      "  [5 5 1]\n",
      "  [2 1 6]]]\n"
     ]
    }
   ],
   "source": [
    "sorted_3d_array = np.sort(three_d_array, axis=0)\n",
    "print(sorted_3d_array)"
   ]
  },
  {
   "cell_type": "markdown",
   "id": "d4e51581",
   "metadata": {},
   "source": [
    "## Filtering"
   ]
  },
  {
   "cell_type": "code",
   "execution_count": 31,
   "id": "df41f4cc",
   "metadata": {},
   "outputs": [
    {
     "name": "stdout",
     "output_type": "stream",
     "text": [
      "[ 1  2  3  4  5  6  7  8  9 10 11 12 13 14 15 16 17 18 19 20]\n"
     ]
    }
   ],
   "source": [
    "array = np.arange(1,21)\n",
    "print(array)"
   ]
  },
  {
   "cell_type": "markdown",
   "id": "2f4150e7",
   "metadata": {},
   "source": [
    "### Conditional Filtering"
   ]
  },
  {
   "cell_type": "code",
   "execution_count": 32,
   "id": "cc9bbcd6",
   "metadata": {},
   "outputs": [
    {
     "name": "stdout",
     "output_type": "stream",
     "text": [
      "[11 12 13 14 15 16 17 18 19 20]\n"
     ]
    }
   ],
   "source": [
    "filtered_array = array[array > 10]\n",
    "print(filtered_array)"
   ]
  },
  {
   "cell_type": "markdown",
   "id": "4ff888de",
   "metadata": {},
   "source": [
    "### Filtering and replacement"
   ]
  },
  {
   "cell_type": "code",
   "execution_count": 33,
   "id": "a8202acc",
   "metadata": {},
   "outputs": [
    {
     "name": "stdout",
     "output_type": "stream",
     "text": [
      "[  1   2   3   4   5  36  49  64  81 100 121 144 169 196 225 256 289 324\n",
      " 361 400]\n"
     ]
    }
   ],
   "source": [
    "filtered_replaced_array = np.where(array>5, array**2, array)\n",
    "print(filtered_replaced_array)"
   ]
  },
  {
   "cell_type": "markdown",
   "id": "9ba172ce",
   "metadata": {},
   "source": [
    "## Array concatenation"
   ]
  },
  {
   "cell_type": "markdown",
   "id": "5add681e",
   "metadata": {},
   "source": [
    "**It is very important that the shape of the arrays are equal**"
   ]
  },
  {
   "cell_type": "code",
   "execution_count": 46,
   "id": "70e13600",
   "metadata": {},
   "outputs": [
    {
     "name": "stdout",
     "output_type": "stream",
     "text": [
      "Both arrays in equal shape...\n"
     ]
    }
   ],
   "source": [
    "array_1 = np.array([[1,2,3,4],[5,6,7,8]])\n",
    "array_2 = np.array([[10,20,30,40],[50,60,70,80]])\n",
    "\n",
    "array_1_ = np.array([[100],[200]])\n",
    "\n",
    "\n",
    "# checking if the shapes are equal\n",
    "if array_1.shape == array_2.shape: print(\"Both arrays in equal shape...\")\n",
    "else: print(\"Shape unmatch detected...\")"
   ]
  },
  {
   "cell_type": "markdown",
   "id": "a41548ac",
   "metadata": {},
   "source": [
    "### Simple Array concatenation"
   ]
  },
  {
   "cell_type": "code",
   "execution_count": 40,
   "id": "f69c18c8",
   "metadata": {},
   "outputs": [
    {
     "name": "stdout",
     "output_type": "stream",
     "text": [
      "[[ 1  2  3  4]\n",
      " [ 5  6  7  8]\n",
      " [10 20 30 40]\n",
      " [50 60 70 80]]\n"
     ]
    }
   ],
   "source": [
    "simple_concatenated_array = np.concatenate((array_1, array_2))\n",
    "print(simple_concatenated_array)"
   ]
  },
  {
   "cell_type": "markdown",
   "id": "27823b44",
   "metadata": {},
   "source": [
    "### Row addition"
   ]
  },
  {
   "cell_type": "code",
   "execution_count": 42,
   "id": "35e92f76",
   "metadata": {},
   "outputs": [
    {
     "name": "stdout",
     "output_type": "stream",
     "text": [
      "[[ 1  2  3  4]\n",
      " [ 5  6  7  8]\n",
      " [10 20 30 40]\n",
      " [50 60 70 80]]\n"
     ]
    }
   ],
   "source": [
    "row_add_array = np.vstack((array_1, array_2))\n",
    "print(row_add_array)"
   ]
  },
  {
   "cell_type": "markdown",
   "id": "8d67692e",
   "metadata": {},
   "source": [
    "### column addition"
   ]
  },
  {
   "cell_type": "code",
   "execution_count": 47,
   "id": "d371eb95",
   "metadata": {},
   "outputs": [
    {
     "name": "stdout",
     "output_type": "stream",
     "text": [
      "[[  1   2   3   4 100]\n",
      " [  5   6   7   8 200]]\n"
     ]
    }
   ],
   "source": [
    "col_add_array = np.hstack((array_1, array_1_))\n",
    "print(col_add_array)"
   ]
  },
  {
   "cell_type": "code",
   "execution_count": null,
   "id": "59334544",
   "metadata": {},
   "outputs": [],
   "source": []
  }
 ],
 "metadata": {
  "kernelspec": {
   "display_name": ".venv",
   "language": "python",
   "name": "python3"
  },
  "language_info": {
   "codemirror_mode": {
    "name": "ipython",
    "version": 3
   },
   "file_extension": ".py",
   "mimetype": "text/x-python",
   "name": "python",
   "nbconvert_exporter": "python",
   "pygments_lexer": "ipython3",
   "version": "3.12.3"
  }
 },
 "nbformat": 4,
 "nbformat_minor": 5
}
