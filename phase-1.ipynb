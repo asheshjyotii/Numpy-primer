{
 "cells": [
  {
   "cell_type": "markdown",
   "id": "05df1503",
   "metadata": {},
   "source": [
    "# Numpy array"
   ]
  },
  {
   "cell_type": "markdown",
   "id": "ef9c3198",
   "metadata": {},
   "source": [
    "Imports"
   ]
  },
  {
   "cell_type": "code",
   "execution_count": 2,
   "id": "bc86082a",
   "metadata": {},
   "outputs": [],
   "source": [
    "import numpy as np\n",
    "import time"
   ]
  },
  {
   "cell_type": "markdown",
   "id": "40bdc82f",
   "metadata": {},
   "source": [
    "## Creating array"
   ]
  },
  {
   "cell_type": "code",
   "execution_count": 3,
   "id": "c48656ef",
   "metadata": {},
   "outputs": [
    {
     "name": "stdout",
     "output_type": "stream",
     "text": [
      "1D array : \n",
      "----\n",
      " [1 2 3]\n",
      "\n",
      "2D array : \n",
      "----\n",
      " [[1 2 3]\n",
      " [4 5 6]]\n"
     ]
    }
   ],
   "source": [
    "array_1D = np.array([1,2,3])\n",
    "\n",
    "array_2D = np.array([[1,2,3],[4,5,6]])\n",
    "\n",
    "print(\"1D array : \\n----\\n\",array_1D)\n",
    "print(\"\\n2D array : \\n----\\n\",array_2D)"
   ]
  },
  {
   "cell_type": "markdown",
   "id": "1edff1d1",
   "metadata": {},
   "source": [
    "## Difference between numpy and list"
   ]
  },
  {
   "cell_type": "markdown",
   "id": "a9992b2b",
   "metadata": {},
   "source": [
    "List -> duplication\n",
    "Array -> Element-wise multiplication"
   ]
  },
  {
   "cell_type": "code",
   "execution_count": 4,
   "id": "4fbe18c4",
   "metadata": {},
   "outputs": [
    {
     "name": "stdout",
     "output_type": "stream",
     "text": [
      "List multiplication:\n",
      " [1, 2, 3, 1, 2, 3, 1, 2, 3]\n",
      "\n",
      "Array multiplication:\n",
      " [[ 3  6  9]\n",
      " [12 15 18]]\n"
     ]
    }
   ],
   "source": [
    "list_1 = [1,2,3]\n",
    "\n",
    "print(\"List multiplication:\\n\", list_1*3)\n",
    "\n",
    "print(\"\\nArray multiplication:\\n\", array_2D*3)"
   ]
  },
  {
   "cell_type": "markdown",
   "id": "57586fc6",
   "metadata": {},
   "source": [
    "Difference in time of list-ops and array-ops"
   ]
  },
  {
   "cell_type": "code",
   "execution_count": 9,
   "id": "d8602c67",
   "metadata": {},
   "outputs": [
    {
     "name": "stdout",
     "output_type": "stream",
     "text": [
      "The time :  0.5327985485394796\n"
     ]
    }
   ],
   "source": [
    "start_time_list = time.time()\n",
    "\n",
    "list_container = [i*2 for i in range(100000000)]\n",
    "\n",
    "print(\"The time : \", (time.time()-start_time_list)/60)"
   ]
  },
  {
   "cell_type": "code",
   "execution_count": 12,
   "id": "49bf2050",
   "metadata": {},
   "outputs": [
    {
     "name": "stdout",
     "output_type": "stream",
     "text": [
      "The time :  0.06404219468434652\n"
     ]
    }
   ],
   "source": [
    "start_time_array = time.time()\n",
    "\n",
    "array_container = np.arange(100000000)\n",
    "\n",
    "print(\"The time : \", (time.time()-start_time_array)/60)"
   ]
  },
  {
   "cell_type": "markdown",
   "id": "b0147833",
   "metadata": {},
   "source": [
    "## Different ways of creating arrays"
   ]
  },
  {
   "cell_type": "markdown",
   "id": "915145b9",
   "metadata": {},
   "source": [
    "### With zeros"
   ]
  },
  {
   "cell_type": "code",
   "execution_count": 16,
   "id": "1e326336",
   "metadata": {},
   "outputs": [
    {
     "name": "stdout",
     "output_type": "stream",
     "text": [
      "[[0. 0. 0.]\n",
      " [0. 0. 0.]\n",
      " [0. 0. 0.]]\n"
     ]
    }
   ],
   "source": [
    "# takes tuple as input with row,col number\n",
    "zero_array = np.zeros((3,3))\n",
    "print(zero_array)"
   ]
  },
  {
   "cell_type": "markdown",
   "id": "cd1a39d2",
   "metadata": {},
   "source": [
    "### With ones"
   ]
  },
  {
   "cell_type": "code",
   "execution_count": 18,
   "id": "7e78f596",
   "metadata": {},
   "outputs": [
    {
     "name": "stdout",
     "output_type": "stream",
     "text": [
      "[[1. 1. 1.]\n",
      " [1. 1. 1.]\n",
      " [1. 1. 1.]]\n"
     ]
    }
   ],
   "source": [
    "# takes tuple as input with row,col number\n",
    "ones_array = np.ones((3,3))\n",
    "print(ones_array)"
   ]
  },
  {
   "cell_type": "markdown",
   "id": "7c82e9c8",
   "metadata": {},
   "source": [
    "### With Random numbers(0-1)"
   ]
  },
  {
   "cell_type": "code",
   "execution_count": 19,
   "id": "b5441033",
   "metadata": {},
   "outputs": [
    {
     "name": "stdout",
     "output_type": "stream",
     "text": [
      "[[0.81056413 0.39164288 0.36082566]\n",
      " [0.50177386 0.73220141 0.92704644]\n",
      " [0.47354271 0.23925771 0.8273531 ]]\n"
     ]
    }
   ],
   "source": [
    "# takes tuple as input with row,col number\n",
    "random_array = np.random.random((3,3))\n",
    "print(random_array)\n"
   ]
  },
  {
   "cell_type": "markdown",
   "id": "4baf6d29",
   "metadata": {},
   "source": [
    "### With Range(sequence) of numbers\n"
   ]
  },
  {
   "cell_type": "code",
   "execution_count": 22,
   "id": "3e7cb0d7",
   "metadata": {},
   "outputs": [
    {
     "name": "stdout",
     "output_type": "stream",
     "text": [
      "[0 3 6 9]\n"
     ]
    }
   ],
   "source": [
    "# takes as input, start,stop,step\n",
    "range_array = np.arange(0,10,3)\n",
    "print(range_array)"
   ]
  },
  {
   "cell_type": "markdown",
   "id": "5ff3819a",
   "metadata": {},
   "source": [
    "### With Constants"
   ]
  },
  {
   "cell_type": "code",
   "execution_count": 23,
   "id": "778f0196",
   "metadata": {},
   "outputs": [
    {
     "name": "stdout",
     "output_type": "stream",
     "text": [
      "[[6 6 6]\n",
      " [6 6 6]\n",
      " [6 6 6]]\n"
     ]
    }
   ],
   "source": [
    "# takes tuple and contant as input ((row,col),constant)\n",
    "constant_array = np.full((3,3),6)\n",
    "print(constant_array)"
   ]
  },
  {
   "cell_type": "markdown",
   "id": "e4046047",
   "metadata": {},
   "source": [
    "## Vector vs Matrix vs Tensor"
   ]
  },
  {
   "cell_type": "markdown",
   "id": "851efa4c",
   "metadata": {},
   "source": [
    "### Vector"
   ]
  },
  {
   "cell_type": "code",
   "execution_count": 24,
   "id": "61574d7b",
   "metadata": {},
   "outputs": [
    {
     "name": "stdout",
     "output_type": "stream",
     "text": [
      "[1 2 3]\n"
     ]
    }
   ],
   "source": [
    "# takes list of numbers as input to convert in to array (should be of same data type)\n",
    "vector = np.array([1,2,3])\n",
    "print(vector)"
   ]
  },
  {
   "cell_type": "markdown",
   "id": "b663a1e3",
   "metadata": {},
   "source": [
    "### Matrix"
   ]
  },
  {
   "cell_type": "code",
   "execution_count": 25,
   "id": "770cdd4d",
   "metadata": {},
   "outputs": [
    {
     "name": "stdout",
     "output_type": "stream",
     "text": [
      "[[1 2 3]\n",
      " [4 5 6]]\n"
     ]
    }
   ],
   "source": [
    "# takes nested list of one level as input to convert in to array (should be of same data type)\n",
    "matrix = np.array([[1,2,3],[4,5,6]])\n",
    "print(matrix)"
   ]
  },
  {
   "cell_type": "markdown",
   "id": "dc9ce92b",
   "metadata": {},
   "source": [
    "### Tensor"
   ]
  },
  {
   "cell_type": "code",
   "execution_count": null,
   "id": "e6396e98",
   "metadata": {},
   "outputs": [
    {
     "name": "stdout",
     "output_type": "stream",
     "text": [
      "[[[ 1  2  3]\n",
      "  [ 4  5  6]]\n",
      "\n",
      " [[ 7  8  9]\n",
      "  [10 11 12]]]\n"
     ]
    }
   ],
   "source": [
    "# n-dim array\n",
    "tensor = np.array([[[1,2,3],[4,5,6]],[[7,8,9],[10,11,12]]])\n",
    "print(tensor)"
   ]
  },
  {
   "cell_type": "markdown",
   "id": "c1aa530d",
   "metadata": {},
   "source": [
    "## Properties of arrays"
   ]
  },
  {
   "cell_type": "markdown",
   "id": "5cd1fca0",
   "metadata": {},
   "source": [
    "### Shape of array"
   ]
  },
  {
   "cell_type": "code",
   "execution_count": 27,
   "id": "89934628",
   "metadata": {},
   "outputs": [
    {
     "name": "stdout",
     "output_type": "stream",
     "text": [
      "(2, 2, 3)\n"
     ]
    }
   ],
   "source": [
    "print(tensor.shape)"
   ]
  },
  {
   "cell_type": "markdown",
   "id": "216dc9e9",
   "metadata": {},
   "source": [
    "### Dimension of array"
   ]
  },
  {
   "cell_type": "code",
   "execution_count": 28,
   "id": "41360509",
   "metadata": {},
   "outputs": [
    {
     "name": "stdout",
     "output_type": "stream",
     "text": [
      "3\n"
     ]
    }
   ],
   "source": [
    "print(tensor.ndim)"
   ]
  },
  {
   "cell_type": "markdown",
   "id": "d53965d3",
   "metadata": {},
   "source": [
    "### Size of array"
   ]
  },
  {
   "cell_type": "code",
   "execution_count": 29,
   "id": "8077bc5e",
   "metadata": {},
   "outputs": [
    {
     "name": "stdout",
     "output_type": "stream",
     "text": [
      "12\n"
     ]
    }
   ],
   "source": [
    "print(tensor.size)"
   ]
  },
  {
   "cell_type": "markdown",
   "id": "f10ffefe",
   "metadata": {},
   "source": [
    "### Dtype of array"
   ]
  },
  {
   "cell_type": "code",
   "execution_count": 30,
   "id": "7fee3f6e",
   "metadata": {},
   "outputs": [
    {
     "name": "stdout",
     "output_type": "stream",
     "text": [
      "int64\n"
     ]
    }
   ],
   "source": [
    "print(tensor.dtype)"
   ]
  },
  {
   "cell_type": "markdown",
   "id": "eb18b199",
   "metadata": {},
   "source": [
    "## Common array operations"
   ]
  },
  {
   "cell_type": "code",
   "execution_count": 41,
   "id": "7a695a7d",
   "metadata": {},
   "outputs": [
    {
     "data": {
      "text/plain": [
       "array([ 1,  2,  3,  4,  5,  6,  7,  8,  9, 10, 11, 12, 13, 14, 15, 16, 17,\n",
       "       18])"
      ]
     },
     "execution_count": 41,
     "metadata": {},
     "output_type": "execute_result"
    }
   ],
   "source": [
    "array = np.arange(1,19)\n",
    "array"
   ]
  },
  {
   "cell_type": "markdown",
   "id": "91d39376",
   "metadata": {},
   "source": [
    "### Reshaping"
   ]
  },
  {
   "cell_type": "code",
   "execution_count": 42,
   "id": "d5ee430c",
   "metadata": {},
   "outputs": [
    {
     "name": "stdout",
     "output_type": "stream",
     "text": [
      "[[ 1  2  3  4  5  6]\n",
      " [ 7  8  9 10 11 12]\n",
      " [13 14 15 16 17 18]]\n"
     ]
    }
   ],
   "source": [
    "array_reshaped = array.reshape((3,6))\n",
    "print(array_reshaped)"
   ]
  },
  {
   "cell_type": "markdown",
   "id": "9af749dd",
   "metadata": {},
   "source": [
    "### Flattening"
   ]
  },
  {
   "cell_type": "code",
   "execution_count": 43,
   "id": "8437c6ae",
   "metadata": {},
   "outputs": [
    {
     "name": "stdout",
     "output_type": "stream",
     "text": [
      "[ 1  2  3  4  5  6  7  8  9 10 11 12 13 14 15 16 17 18]\n"
     ]
    }
   ],
   "source": [
    "flattened_array = array_reshaped.flatten()\n",
    "print(flattened_array)"
   ]
  },
  {
   "cell_type": "markdown",
   "id": "3c1571c5",
   "metadata": {},
   "source": [
    "### Ravel"
   ]
  },
  {
   "cell_type": "code",
   "execution_count": 44,
   "id": "fb5a4af8",
   "metadata": {},
   "outputs": [
    {
     "name": "stdout",
     "output_type": "stream",
     "text": [
      "[ 1  2  3  4  5  6  7  8  9 10 11 12 13 14 15 16 17 18]\n"
     ]
    }
   ],
   "source": [
    "Ravel_array = array_reshaped.ravel()\n",
    "print(Ravel_array)"
   ]
  },
  {
   "cell_type": "markdown",
   "id": "04f833d1",
   "metadata": {},
   "source": [
    "### Transposing"
   ]
  },
  {
   "cell_type": "code",
   "execution_count": 45,
   "id": "803881a7",
   "metadata": {},
   "outputs": [
    {
     "name": "stdout",
     "output_type": "stream",
     "text": [
      "[[ 1  7 13]\n",
      " [ 2  8 14]\n",
      " [ 3  9 15]\n",
      " [ 4 10 16]\n",
      " [ 5 11 17]\n",
      " [ 6 12 18]]\n"
     ]
    }
   ],
   "source": [
    "transpose_array = array_reshaped.T\n",
    "print(transpose_array)"
   ]
  },
  {
   "cell_type": "markdown",
   "id": "d9cae263",
   "metadata": {},
   "source": []
  }
 ],
 "metadata": {
  "kernelspec": {
   "display_name": ".venv",
   "language": "python",
   "name": "python3"
  },
  "language_info": {
   "codemirror_mode": {
    "name": "ipython",
    "version": 3
   },
   "file_extension": ".py",
   "mimetype": "text/x-python",
   "name": "python",
   "nbconvert_exporter": "python",
   "pygments_lexer": "ipython3",
   "version": "3.12.3"
  }
 },
 "nbformat": 4,
 "nbformat_minor": 5
}
